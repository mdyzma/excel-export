{
 "cells": [
  {
   "cell_type": "code",
   "execution_count": 1,
   "metadata": {},
   "outputs": [],
   "source": [
    "import os\n",
    "import logging\n",
    "import docx\n",
    "# import pdfkit\n",
    "import pandas as pd\n",
    "from tqdm import tqdm\n",
    "\n",
    "import numpy as np\n",
    "from glob import glob\n",
    "from typing import Callable, List\n",
    "from datetime import datetime\n",
    "import pandas as pd"
   ]
  },
  {
   "cell_type": "code",
   "execution_count": 2,
   "metadata": {},
   "outputs": [],
   "source": [
    "# !which python"
   ]
  },
  {
   "cell_type": "code",
   "execution_count": 3,
   "metadata": {},
   "outputs": [],
   "source": [
    "def get_file_list(data_path: str) -> List[str]:\n",
    "    separator = os.sep\n",
    "    return glob(separator.join([data_path, \"*.xlsx\"]))\n",
    "\n",
    "\n",
    "def read_data(data_path: str) -> pd.DataFrame:\n",
    "    files_xls = get_file_list(data_path)\n",
    "    df = pd.DataFrame()\n",
    "    logging.info(\"Extracting data from {} files\".format(len(files_xls)))\n",
    "    for file in tqdm(files_xls):\n",
    "        data = pd.read_excel(file, header=None, names=[\"tekst\", \"wartosc\"])\n",
    "        df = df.append(data)\n",
    "    return df\n",
    "\n",
    "\n",
    "def export_to_docx(data: pd.DataFrame, destination: str, n_samples: int) -> None:\n",
    "    doc = docx.Document()\n",
    "    t = doc.add_table(data.shape[0] + 1, data.shape[1])\n",
    "\n",
    "    fname = \"\".join([\"results\", \".docx\"])\n",
    "    path = os.path.join(destination, fname)\n",
    "\n",
    "    logging.info(\n",
    "        \"Writing {} data samples to Word document in {}\".format(n_samples, destination)\n",
    "    )\n",
    "\n",
    "    # add the header rows.\n",
    "    for j in range(data.shape[-1]):\n",
    "        t.cell(0, j).text = data.columns[j]\n",
    "\n",
    "    # add the rest of the data frame\n",
    "    for i in tqdm(range(data.shape[0])):\n",
    "        for j in range(data.shape[-1]):\n",
    "            t.cell(i + 1, j).text = str(data.values[i, j])\n",
    "\n",
    "    doc.save(path)\n",
    "\n",
    "\n",
    "def export_to_pdf(data: pd.DataFrame, destination: str) -> None:\n",
    "\n",
    "    logging.info(\"Writing data to PDF document in {}\".format(destination))\n",
    "    fname = \"\".join([\"results\", \".pdf\"])\n",
    "    path = os.path.join(destination, fname)\n",
    "    pdfkit.from_string(data.to_html(), path)"
   ]
  },
  {
   "cell_type": "code",
   "execution_count": 9,
   "metadata": {},
   "outputs": [],
   "source": [
    "def get_samples(data: pd.DataFrame, n_samples: str) -> pd.DataFrame:\n",
    "    n_samples = int(n_samples)\n",
    "    samples = data.sample(n_samples)\n",
    "    return samples"
   ]
  },
  {
   "cell_type": "code",
   "execution_count": 4,
   "metadata": {},
   "outputs": [],
   "source": [
    "data_path = \"C:\\\\Users\\\\Michal\\\\Downloads\"\n",
    "n_samples = 100\n",
    "filter_value = 5"
   ]
  },
  {
   "cell_type": "code",
   "execution_count": 35,
   "metadata": {},
   "outputs": [
    {
     "data": {
      "text/plain": [
       "'C:\\\\Users\\\\Michal\\\\Downloads'"
      ]
     },
     "execution_count": 35,
     "metadata": {},
     "output_type": "execute_result"
    }
   ],
   "source": [
    "data_path"
   ]
  },
  {
   "cell_type": "code",
   "execution_count": null,
   "metadata": {},
   "outputs": [],
   "source": []
  },
  {
   "cell_type": "code",
   "execution_count": null,
   "metadata": {},
   "outputs": [],
   "source": []
  },
  {
   "cell_type": "code",
   "execution_count": 38,
   "metadata": {},
   "outputs": [
    {
     "data": {
      "text/plain": [
       "['C:\\\\Users\\\\Michal\\\\Downloads\\\\Arkusz kalkulacyjny bez tytułu - Copy (1).xlsx',\n",
       " 'C:\\\\Users\\\\Michal\\\\Downloads\\\\Arkusz kalkulacyjny bez tytułu - Copy (10).xlsx',\n",
       " 'C:\\\\Users\\\\Michal\\\\Downloads\\\\Arkusz kalkulacyjny bez tytułu - Copy (2).xlsx',\n",
       " 'C:\\\\Users\\\\Michal\\\\Downloads\\\\Arkusz kalkulacyjny bez tytułu - Copy (3).xlsx',\n",
       " 'C:\\\\Users\\\\Michal\\\\Downloads\\\\Arkusz kalkulacyjny bez tytułu - Copy (4).xlsx',\n",
       " 'C:\\\\Users\\\\Michal\\\\Downloads\\\\Arkusz kalkulacyjny bez tytułu - Copy (5).xlsx',\n",
       " 'C:\\\\Users\\\\Michal\\\\Downloads\\\\Arkusz kalkulacyjny bez tytułu - Copy (6).xlsx',\n",
       " 'C:\\\\Users\\\\Michal\\\\Downloads\\\\Arkusz kalkulacyjny bez tytułu - Copy.xlsx',\n",
       " 'C:\\\\Users\\\\Michal\\\\Downloads\\\\Arkusz kalkulacyjny bez tytułu.xlsx',\n",
       " 'C:\\\\Users\\\\Michal\\\\Downloads\\\\Test11.xlsx',\n",
       " 'C:\\\\Users\\\\Michal\\\\Downloads\\\\Test22.xlsx',\n",
       " 'C:\\\\Users\\\\Michal\\\\Downloads\\\\Test33.xlsx']"
      ]
     },
     "execution_count": 38,
     "metadata": {},
     "output_type": "execute_result"
    }
   ],
   "source": [
    "separator = os.sep\n",
    "glob(separator.join([data_path, \"*.xlsx\"]))"
   ]
  },
  {
   "cell_type": "code",
   "execution_count": 5,
   "metadata": {},
   "outputs": [
    {
     "name": "stderr",
     "output_type": "stream",
     "text": [
      "100%|███████████████████████████████████████████████████████████████████████████████████████████████████████████████████████| 12/12 [00:00<00:00, 102.63it/s]\n"
     ]
    }
   ],
   "source": [
    "inputs = os.path.abspath(data_path)\n",
    "exl_files = get_file_list(inputs)\n",
    "data = read_data(inputs)"
   ]
  },
  {
   "cell_type": "code",
   "execution_count": 7,
   "metadata": {},
   "outputs": [
    {
     "data": {
      "text/html": [
       "<div>\n",
       "<style scoped>\n",
       "    .dataframe tbody tr th:only-of-type {\n",
       "        vertical-align: middle;\n",
       "    }\n",
       "\n",
       "    .dataframe tbody tr th {\n",
       "        vertical-align: top;\n",
       "    }\n",
       "\n",
       "    .dataframe thead th {\n",
       "        text-align: right;\n",
       "    }\n",
       "</style>\n",
       "<table border=\"1\" class=\"dataframe\">\n",
       "  <thead>\n",
       "    <tr style=\"text-align: right;\">\n",
       "      <th></th>\n",
       "      <th>tekst</th>\n",
       "      <th>wartosc</th>\n",
       "    </tr>\n",
       "  </thead>\n",
       "  <tbody>\n",
       "    <tr>\n",
       "      <td>19</td>\n",
       "      <td>65Lorem Ipsum is simply dummy text of the prin...</td>\n",
       "      <td>4</td>\n",
       "    </tr>\n",
       "    <tr>\n",
       "      <td>20</td>\n",
       "      <td>66Lorem Ipsum is simply dummy text of the prin...</td>\n",
       "      <td>5</td>\n",
       "    </tr>\n",
       "    <tr>\n",
       "      <td>21</td>\n",
       "      <td>67Lorem Ipsum is simply dummy text of the prin...</td>\n",
       "      <td>1</td>\n",
       "    </tr>\n",
       "    <tr>\n",
       "      <td>22</td>\n",
       "      <td>68Lorem Ipsum is simply dummy text of the prin...</td>\n",
       "      <td>2</td>\n",
       "    </tr>\n",
       "    <tr>\n",
       "      <td>23</td>\n",
       "      <td>69Lorem Ipsum is simply dummy text of the prin...</td>\n",
       "      <td>3</td>\n",
       "    </tr>\n",
       "  </tbody>\n",
       "</table>\n",
       "</div>"
      ],
      "text/plain": [
       "                                                tekst wartosc\n",
       "19  65Lorem Ipsum is simply dummy text of the prin...       4\n",
       "20  66Lorem Ipsum is simply dummy text of the prin...       5\n",
       "21  67Lorem Ipsum is simply dummy text of the prin...       1\n",
       "22  68Lorem Ipsum is simply dummy text of the prin...       2\n",
       "23  69Lorem Ipsum is simply dummy text of the prin...       3"
      ]
     },
     "execution_count": 7,
     "metadata": {},
     "output_type": "execute_result"
    }
   ],
   "source": [
    "data.tail()"
   ]
  },
  {
   "cell_type": "code",
   "execution_count": 20,
   "metadata": {},
   "outputs": [],
   "source": [
    "if filter_value:\n",
    "    samples = get_samples(data, n_samples)\n",
    "    filtered_data = samples.loc[samples[\"wartosc\"] == filter_value]"
   ]
  },
  {
   "cell_type": "code",
   "execution_count": 21,
   "metadata": {},
   "outputs": [
    {
     "data": {
      "text/plain": [
       "297"
      ]
     },
     "execution_count": 21,
     "metadata": {},
     "output_type": "execute_result"
    }
   ],
   "source": [
    "len(data)"
   ]
  },
  {
   "cell_type": "code",
   "execution_count": 22,
   "metadata": {},
   "outputs": [
    {
     "data": {
      "text/plain": [
       "26"
      ]
     },
     "execution_count": 22,
     "metadata": {},
     "output_type": "execute_result"
    }
   ],
   "source": [
    "len(filtered_data)"
   ]
  },
  {
   "cell_type": "code",
   "execution_count": 38,
   "metadata": {},
   "outputs": [
    {
     "data": {
      "text/html": [
       "<div>\n",
       "<style scoped>\n",
       "    .dataframe tbody tr th:only-of-type {\n",
       "        vertical-align: middle;\n",
       "    }\n",
       "\n",
       "    .dataframe tbody tr th {\n",
       "        vertical-align: top;\n",
       "    }\n",
       "\n",
       "    .dataframe thead th {\n",
       "        text-align: right;\n",
       "    }\n",
       "</style>\n",
       "<table border=\"1\" class=\"dataframe\">\n",
       "  <thead>\n",
       "    <tr style=\"text-align: right;\">\n",
       "      <th></th>\n",
       "      <th>tekst</th>\n",
       "      <th>wartosc</th>\n",
       "    </tr>\n",
       "  </thead>\n",
       "  <tbody>\n",
       "    <tr>\n",
       "      <td>20</td>\n",
       "      <td>66Lorem Ipsum is simply dummy text of the prin...</td>\n",
       "      <td>5</td>\n",
       "    </tr>\n",
       "    <tr>\n",
       "      <td>5</td>\n",
       "      <td>Jeden</td>\n",
       "      <td>5</td>\n",
       "    </tr>\n",
       "    <tr>\n",
       "      <td>16</td>\n",
       "      <td>Trzy</td>\n",
       "      <td>5</td>\n",
       "    </tr>\n",
       "    <tr>\n",
       "      <td>15</td>\n",
       "      <td>Siedem</td>\n",
       "      <td>5</td>\n",
       "    </tr>\n",
       "    <tr>\n",
       "      <td>15</td>\n",
       "      <td>pd.DataFrame()</td>\n",
       "      <td>5</td>\n",
       "    </tr>\n",
       "    <tr>\n",
       "      <td>5</td>\n",
       "      <td>pd.DataFrame()</td>\n",
       "      <td>5</td>\n",
       "    </tr>\n",
       "    <tr>\n",
       "      <td>4</td>\n",
       "      <td>Piec</td>\n",
       "      <td>5</td>\n",
       "    </tr>\n",
       "    <tr>\n",
       "      <td>10</td>\n",
       "      <td>56Lorem Ipsum is simply dummy text of the prin...</td>\n",
       "      <td>5</td>\n",
       "    </tr>\n",
       "    <tr>\n",
       "      <td>15</td>\n",
       "      <td>38Lorem Ipsum is simply dummy text of the prin...</td>\n",
       "      <td>5</td>\n",
       "    </tr>\n",
       "    <tr>\n",
       "      <td>17</td>\n",
       "      <td>pd.DataFrame()</td>\n",
       "      <td>5</td>\n",
       "    </tr>\n",
       "    <tr>\n",
       "      <td>4</td>\n",
       "      <td>Dwa</td>\n",
       "      <td>5</td>\n",
       "    </tr>\n",
       "    <tr>\n",
       "      <td>16</td>\n",
       "      <td>Dwa</td>\n",
       "      <td>5</td>\n",
       "    </tr>\n",
       "    <tr>\n",
       "      <td>20</td>\n",
       "      <td>20Lorem Ipsum is simply dummy text of the prin...</td>\n",
       "      <td>5</td>\n",
       "    </tr>\n",
       "    <tr>\n",
       "      <td>17</td>\n",
       "      <td>Szesc</td>\n",
       "      <td>5</td>\n",
       "    </tr>\n",
       "    <tr>\n",
       "      <td>5</td>\n",
       "      <td>Osiem</td>\n",
       "      <td>5</td>\n",
       "    </tr>\n",
       "    <tr>\n",
       "      <td>5</td>\n",
       "      <td>28Lorem Ipsum is simply dummy text of the prin...</td>\n",
       "      <td>5</td>\n",
       "    </tr>\n",
       "    <tr>\n",
       "      <td>15</td>\n",
       "      <td>Piec</td>\n",
       "      <td>5</td>\n",
       "    </tr>\n",
       "    <tr>\n",
       "      <td>4</td>\n",
       "      <td>Trzy</td>\n",
       "      <td>5</td>\n",
       "    </tr>\n",
       "    <tr>\n",
       "      <td>10</td>\n",
       "      <td>10Lorem Ipsum is simply dummy text of the prin...</td>\n",
       "      <td>5</td>\n",
       "    </tr>\n",
       "    <tr>\n",
       "      <td>5</td>\n",
       "      <td>Cztery</td>\n",
       "      <td>5</td>\n",
       "    </tr>\n",
       "    <tr>\n",
       "      <td>10</td>\n",
       "      <td>33Lorem Ipsum is simply dummy text of the prin...</td>\n",
       "      <td>5</td>\n",
       "    </tr>\n",
       "    <tr>\n",
       "      <td>17</td>\n",
       "      <td>Osiem</td>\n",
       "      <td>5</td>\n",
       "    </tr>\n",
       "    <tr>\n",
       "      <td>17</td>\n",
       "      <td>Trzy</td>\n",
       "      <td>5</td>\n",
       "    </tr>\n",
       "    <tr>\n",
       "      <td>15</td>\n",
       "      <td>Trzy</td>\n",
       "      <td>5</td>\n",
       "    </tr>\n",
       "    <tr>\n",
       "      <td>5</td>\n",
       "      <td>Trzy</td>\n",
       "      <td>5</td>\n",
       "    </tr>\n",
       "    <tr>\n",
       "      <td>17</td>\n",
       "      <td>Piec</td>\n",
       "      <td>5</td>\n",
       "    </tr>\n",
       "  </tbody>\n",
       "</table>\n",
       "</div>"
      ],
      "text/plain": [
       "                                                tekst wartosc\n",
       "20  66Lorem Ipsum is simply dummy text of the prin...       5\n",
       "5                                               Jeden       5\n",
       "16                                               Trzy       5\n",
       "15                                             Siedem       5\n",
       "15                                     pd.DataFrame()       5\n",
       "5                                      pd.DataFrame()       5\n",
       "4                                                Piec       5\n",
       "10  56Lorem Ipsum is simply dummy text of the prin...       5\n",
       "15  38Lorem Ipsum is simply dummy text of the prin...       5\n",
       "17                                     pd.DataFrame()       5\n",
       "4                                                 Dwa       5\n",
       "16                                                Dwa       5\n",
       "20  20Lorem Ipsum is simply dummy text of the prin...       5\n",
       "17                                              Szesc       5\n",
       "5                                               Osiem       5\n",
       "5   28Lorem Ipsum is simply dummy text of the prin...       5\n",
       "15                                               Piec       5\n",
       "4                                                Trzy       5\n",
       "10  10Lorem Ipsum is simply dummy text of the prin...       5\n",
       "5                                              Cztery       5\n",
       "10  33Lorem Ipsum is simply dummy text of the prin...       5\n",
       "17                                              Osiem       5\n",
       "17                                               Trzy       5\n",
       "15                                               Trzy       5\n",
       "5                                                Trzy       5\n",
       "17                                               Piec       5"
      ]
     },
     "execution_count": 38,
     "metadata": {},
     "output_type": "execute_result"
    }
   ],
   "source": [
    "filtered_data"
   ]
  },
  {
   "cell_type": "code",
   "execution_count": 24,
   "metadata": {},
   "outputs": [
    {
     "data": {
      "text/html": [
       "<div>\n",
       "<style scoped>\n",
       "    .dataframe tbody tr th:only-of-type {\n",
       "        vertical-align: middle;\n",
       "    }\n",
       "\n",
       "    .dataframe tbody tr th {\n",
       "        vertical-align: top;\n",
       "    }\n",
       "\n",
       "    .dataframe thead th {\n",
       "        text-align: right;\n",
       "    }\n",
       "</style>\n",
       "<table border=\"1\" class=\"dataframe\">\n",
       "  <thead>\n",
       "    <tr style=\"text-align: right;\">\n",
       "      <th></th>\n",
       "      <th>tekst</th>\n",
       "    </tr>\n",
       "  </thead>\n",
       "  <tbody>\n",
       "    <tr>\n",
       "      <td>20</td>\n",
       "      <td>66Lorem Ipsum is simply dummy text of the prin...</td>\n",
       "    </tr>\n",
       "    <tr>\n",
       "      <td>5</td>\n",
       "      <td>Jeden</td>\n",
       "    </tr>\n",
       "    <tr>\n",
       "      <td>16</td>\n",
       "      <td>Trzy</td>\n",
       "    </tr>\n",
       "    <tr>\n",
       "      <td>15</td>\n",
       "      <td>Siedem</td>\n",
       "    </tr>\n",
       "    <tr>\n",
       "      <td>15</td>\n",
       "      <td>pd.DataFrame()</td>\n",
       "    </tr>\n",
       "  </tbody>\n",
       "</table>\n",
       "</div>"
      ],
      "text/plain": [
       "                                                tekst\n",
       "20  66Lorem Ipsum is simply dummy text of the prin...\n",
       "5                                               Jeden\n",
       "16                                               Trzy\n",
       "15                                             Siedem\n",
       "15                                     pd.DataFrame()"
      ]
     },
     "execution_count": 24,
     "metadata": {},
     "output_type": "execute_result"
    }
   ],
   "source": [
    "filtered_data2.head()"
   ]
  },
  {
   "cell_type": "code",
   "execution_count": 46,
   "metadata": {},
   "outputs": [
    {
     "name": "stdout",
     "output_type": "stream",
     "text": [
      "<table border=\"0\" class=\"dataframe\">\n",
      "  <thead>\n",
      "    <tr style=\"text-align: right;\">\n",
      "      <th>tekst</th>\n",
      "    </tr>\n",
      "  </thead>\n",
      "  <tbody>\n",
      "    <tr>\n",
      "      <td>66Lorem Ipsum is simply dummy text of the printing and typesetting industry. Lorem Ipsum has been the industry's standard dummy text ever since the 1500s, when an unknown printer took a galley of type and scrambled it to make a type specimen book. It has survived not only five centuries, but also the leap into electronic typesetting, remaining essentially unchanged. It was popularised in the 1960s with the release of Letraset sheets containing Lorem Ipsum passages, and more recently with desktop publishing software like Aldus PageMaker including versions of Lorem Ipsum.</td>\n",
      "    </tr>\n",
      "    <tr>\n",
      "      <td>Jeden</td>\n",
      "    </tr>\n",
      "    <tr>\n",
      "      <td>Trzy</td>\n",
      "    </tr>\n",
      "    <tr>\n",
      "      <td>Siedem</td>\n",
      "    </tr>\n",
      "    <tr>\n",
      "      <td>pd.DataFrame()</td>\n",
      "    </tr>\n",
      "    <tr>\n",
      "      <td>pd.DataFrame()</td>\n",
      "    </tr>\n",
      "    <tr>\n",
      "      <td>Piec</td>\n",
      "    </tr>\n",
      "    <tr>\n",
      "      <td>56Lorem Ipsum is simply dummy text of the printing and typesetting industry. Lorem Ipsum has been the industry's standard dummy text ever since the 1500s, when an unknown printer took a galley of type and scrambled it to make a type specimen book. It has survived not only five centuries, but also the leap into electronic typesetting, remaining essentially unchanged. It was popularised in the 1960s with the release of Letraset sheets containing Lorem Ipsum passages, and more recently with desktop publishing software like Aldus PageMaker including versions of Lorem Ipsum.</td>\n",
      "    </tr>\n",
      "    <tr>\n",
      "      <td>38Lorem Ipsum is simply dummy text of the printing and typesetting industry. Lorem Ipsum has been the industry's standard dummy text ever since the 1500s, when an unknown printer took a galley of type and scrambled it to make a type specimen book. It has survived not only five centuries, but also the leap into electronic typesetting, remaining essentially unchanged. It was popularised in the 1960s with the release of Letraset sheets containing Lorem Ipsum passages, and more recently with desktop publishing software like Aldus PageMaker including versions of Lorem Ipsum.</td>\n",
      "    </tr>\n",
      "    <tr>\n",
      "      <td>pd.DataFrame()</td>\n",
      "    </tr>\n",
      "    <tr>\n",
      "      <td>Dwa</td>\n",
      "    </tr>\n",
      "    <tr>\n",
      "      <td>Dwa</td>\n",
      "    </tr>\n",
      "    <tr>\n",
      "      <td>20Lorem Ipsum is simply dummy text of the printing and typesetting industry. Lorem Ipsum has been the industry's standard dummy text ever since the 1500s, when an unknown printer took a galley of type and scrambled it to make a type specimen book. It has survived not only five centuries, but also the leap into electronic typesetting, remaining essentially unchanged. It was popularised in the 1960s with the release of Letraset sheets containing Lorem Ipsum passages, and more recently with desktop publishing software like Aldus PageMaker including versions of Lorem Ipsum.</td>\n",
      "    </tr>\n",
      "    <tr>\n",
      "      <td>Szesc</td>\n",
      "    </tr>\n",
      "    <tr>\n",
      "      <td>Osiem</td>\n",
      "    </tr>\n",
      "    <tr>\n",
      "      <td>28Lorem Ipsum is simply dummy text of the printing and typesetting industry. Lorem Ipsum has been the industry's standard dummy text ever since the 1500s, when an unknown printer took a galley of type and scrambled it to make a type specimen book. It has survived not only five centuries, but also the leap into electronic typesetting, remaining essentially unchanged. It was popularised in the 1960s with the release of Letraset sheets containing Lorem Ipsum passages, and more recently with desktop publishing software like Aldus PageMaker including versions of Lorem Ipsum.</td>\n",
      "    </tr>\n",
      "    <tr>\n",
      "      <td>Piec</td>\n",
      "    </tr>\n",
      "    <tr>\n",
      "      <td>Trzy</td>\n",
      "    </tr>\n",
      "    <tr>\n",
      "      <td>10Lorem Ipsum is simply dummy text of the printing and typesetting industry. Lorem Ipsum has been the industry's standard dummy text ever since the 1500s, when an unknown printer took a galley of type and scrambled it to make a type specimen book. It has survived not only five centuries, but also the leap into electronic typesetting, remaining essentially unchanged. It was popularised in the 1960s with the release of Letraset sheets containing Lorem Ipsum passages, and more recently with desktop publishing software like Aldus PageMaker including versions of Lorem Ipsum.</td>\n",
      "    </tr>\n",
      "    <tr>\n",
      "      <td>Cztery</td>\n",
      "    </tr>\n",
      "    <tr>\n",
      "      <td>33Lorem Ipsum is simply dummy text of the printing and typesetting industry. Lorem Ipsum has been the industry's standard dummy text ever since the 1500s, when an unknown printer took a galley of type and scrambled it to make a type specimen book. It has survived not only five centuries, but also the leap into electronic typesetting, remaining essentially unchanged. It was popularised in the 1960s with the release of Letraset sheets containing Lorem Ipsum passages, and more recently with desktop publishing software like Aldus PageMaker including versions of Lorem Ipsum.</td>\n",
      "    </tr>\n",
      "    <tr>\n",
      "      <td>Osiem</td>\n",
      "    </tr>\n",
      "    <tr>\n",
      "      <td>Trzy</td>\n",
      "    </tr>\n",
      "    <tr>\n",
      "      <td>Trzy</td>\n",
      "    </tr>\n",
      "    <tr>\n",
      "      <td>Trzy</td>\n",
      "    </tr>\n",
      "    <tr>\n",
      "      <td>Piec</td>\n",
      "    </tr>\n",
      "  </tbody>\n",
      "</table>\n"
     ]
    }
   ],
   "source": [
    "print(filtered_data.to_html(columns=['tekst'], index=False, border=0))"
   ]
  },
  {
   "cell_type": "code",
   "execution_count": null,
   "metadata": {},
   "outputs": [],
   "source": []
  }
 ],
 "metadata": {
  "kernelspec": {
   "display_name": "Python 3",
   "language": "python",
   "name": "python3"
  },
  "language_info": {
   "codemirror_mode": {
    "name": "ipython",
    "version": 3
   },
   "file_extension": ".py",
   "mimetype": "text/x-python",
   "name": "python",
   "nbconvert_exporter": "python",
   "pygments_lexer": "ipython3",
   "version": "3.7.4"
  }
 },
 "nbformat": 4,
 "nbformat_minor": 4
}
